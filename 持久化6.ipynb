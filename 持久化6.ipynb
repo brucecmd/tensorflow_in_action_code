{
  "nbformat": 4,
  "nbformat_minor": 0,
  "metadata": {
    "colab": {
      "name": "Untitled0.ipynb",
      "version": "0.3.2",
      "provenance": [],
      "include_colab_link": true
    },
    "kernelspec": {
      "name": "python3",
      "display_name": "Python 3"
    }
  },
  "cells": [
    {
      "cell_type": "markdown",
      "metadata": {
        "id": "view-in-github",
        "colab_type": "text"
      },
      "source": [
        "<a href=\"https://colab.research.google.com/github/brucecmd/tensorflow_in_action_code/blob/master/%E6%8C%81%E4%B9%85%E5%8C%966.ipynb\" target=\"_parent\"><img src=\"https://colab.research.google.com/assets/colab-badge.svg\" alt=\"Open In Colab\"/></a>"
      ]
    },
    {
      "cell_type": "code",
      "metadata": {
        "id": "eyPWdsXdDGWp",
        "colab_type": "code",
        "colab": {}
      },
      "source": [
        "import tensorflow as tf"
      ],
      "execution_count": 0,
      "outputs": []
    },
    {
      "cell_type": "code",
      "metadata": {
        "id": "W0HLVUuIEUqE",
        "colab_type": "code",
        "colab": {
          "base_uri": "https://localhost:8080/",
          "height": 35
        },
        "outputId": "749817d3-9a95-4362-bea4-8e660dccbd0f"
      },
      "source": [
        "from google.colab import drive\n",
        "drive.mount('/content/drive')  # 这一步是连接google drive"
      ],
      "execution_count": 2,
      "outputs": [
        {
          "output_type": "stream",
          "text": [
            "Drive already mounted at /content/drive; to attempt to forcibly remount, call drive.mount(\"/content/drive\", force_remount=True).\n"
          ],
          "name": "stdout"
        }
      ]
    },
    {
      "cell_type": "code",
      "metadata": {
        "id": "QptWDIghE24v",
        "colab_type": "code",
        "colab": {
          "base_uri": "https://localhost:8080/",
          "height": 146
        },
        "outputId": "54c1f412-ed00-4d09-ae80-302fdd496382"
      },
      "source": [
        "# 为了方便加载时重命名滑动平均变量，tf.train.ExponentialMovingAverage类提供了variables_to_restore函数来生成tf.train.Saver类所需要的变量重命名字典\n",
        "# 这个功能很方便了，免得前面构建Saver的时候，手动去写原来的名字\n",
        "v = tf.Variable(0, dtype=tf.float32, name=\"v\")\n",
        "ema = tf.train.ExponentialMovingAverage(0.99)\n",
        "\n",
        "# 通过使用variables_to_restore函数来直接生成用于改名的那个字典, 也就是： {\"v/ExponentialMovingAverage\":v}\n",
        "print(ema.variables_to_restore()) # 我们来打印出来，生成的这个字典长什么样子\n",
        "\n",
        "saver = tf.train.Saver(ema.variables_to_restore())\n",
        "with tf.Session() as sess:\n",
        "  saver.restore(sess, \"/content/drive/My Drive/model_folder/test_model2/model.ckpt\")\n",
        "  print(sess.run(v)) # 这里的v其实是滑动平均的结果，因为我们改名了"
      ],
      "execution_count": 3,
      "outputs": [
        {
          "output_type": "stream",
          "text": [
            "WARNING: Logging before flag parsing goes to stderr.\n",
            "W0831 14:41:43.373844 139718870423424 deprecation.py:323] From /usr/local/lib/python3.6/dist-packages/tensorflow/python/training/saver.py:1276: checkpoint_exists (from tensorflow.python.training.checkpoint_management) is deprecated and will be removed in a future version.\n",
            "Instructions for updating:\n",
            "Use standard file APIs to check for files with this prefix.\n"
          ],
          "name": "stderr"
        },
        {
          "output_type": "stream",
          "text": [
            "{'v/ExponentialMovingAverage': <tf.Variable 'v:0' shape=() dtype=float32_ref>}\n",
            "0.099999905\n"
          ],
          "name": "stdout"
        }
      ]
    },
    {
      "cell_type": "code",
      "metadata": {
        "id": "YTmLT7itH_HO",
        "colab_type": "code",
        "colab": {}
      },
      "source": [
        ""
      ],
      "execution_count": 0,
      "outputs": []
    }
  ]
}