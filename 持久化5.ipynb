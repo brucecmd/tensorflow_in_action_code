{
  "nbformat": 4,
  "nbformat_minor": 0,
  "metadata": {
    "colab": {
      "name": "Untitled0.ipynb",
      "version": "0.3.2",
      "provenance": [],
      "include_colab_link": true
    },
    "kernelspec": {
      "name": "python3",
      "display_name": "Python 3"
    }
  },
  "cells": [
    {
      "cell_type": "markdown",
      "metadata": {
        "id": "view-in-github",
        "colab_type": "text"
      },
      "source": [
        "<a href=\"https://colab.research.google.com/github/brucecmd/tensorflow_in_action_code/blob/master/%E6%8C%81%E4%B9%85%E5%8C%965.ipynb\" target=\"_parent\"><img src=\"https://colab.research.google.com/assets/colab-badge.svg\" alt=\"Open In Colab\"/></a>"
      ]
    },
    {
      "cell_type": "code",
      "metadata": {
        "id": "u9f8-EwL3HGX",
        "colab_type": "code",
        "colab": {}
      },
      "source": [
        "import tensorflow as tf"
      ],
      "execution_count": 0,
      "outputs": []
    },
    {
      "cell_type": "code",
      "metadata": {
        "id": "KFKA1ztkTrmB",
        "colab_type": "code",
        "colab": {}
      },
      "source": [
        "v = tf.Variable(0, dtype=tf.float32, name=\"v\")"
      ],
      "execution_count": 0,
      "outputs": []
    },
    {
      "cell_type": "code",
      "metadata": {
        "id": "Uo2yeYqT-FKm",
        "colab_type": "code",
        "colab": {
          "base_uri": "https://localhost:8080/",
          "height": 35
        },
        "outputId": "973e6a6f-ba8a-4d59-e43b-9394d75cb181"
      },
      "source": [
        "# 没有声明滑动平均模型时，只有一个变量v，所以下面的语句只会输出\"v:0\"\n",
        "for variable in tf.global_variables():\n",
        "  print(variable.name)"
      ],
      "execution_count": 3,
      "outputs": [
        {
          "output_type": "stream",
          "text": [
            "v:0\n"
          ],
          "name": "stdout"
        }
      ]
    },
    {
      "cell_type": "code",
      "metadata": {
        "id": "e4o0QoPy-Q0a",
        "colab_type": "code",
        "colab": {
          "base_uri": "https://localhost:8080/",
          "height": 146
        },
        "outputId": "9a5d686d-b7b5-4cfb-8d10-b4fa0a762319"
      },
      "source": [
        "ema = tf.train.ExponentialMovingAverage(0.99)\n",
        "maintain_averages_op = ema.apply(tf.global_variables())\n",
        "# 在声明滑动平均模型之后，tensorflow会自动生成一个影子变量\n",
        "# 下面的语句会输出： \"v:0\"和\"v/ExponentialMovingAverage:0\"\n",
        "for variable in tf.global_variables():\n",
        "  print(variable.name)"
      ],
      "execution_count": 4,
      "outputs": [
        {
          "output_type": "stream",
          "text": [
            "WARNING: Logging before flag parsing goes to stderr.\n",
            "W0831 14:18:24.911805 140612748281728 deprecation.py:323] From /usr/local/lib/python3.6/dist-packages/tensorflow/python/training/moving_averages.py:433: Variable.initialized_value (from tensorflow.python.ops.variables) is deprecated and will be removed in a future version.\n",
            "Instructions for updating:\n",
            "Use Variable.read_value. Variables in 2.X are initialized automatically both in eager and graph (inside tf.defun) contexts.\n"
          ],
          "name": "stderr"
        },
        {
          "output_type": "stream",
          "text": [
            "v:0\n",
            "v/ExponentialMovingAverage:0\n"
          ],
          "name": "stdout"
        }
      ]
    },
    {
      "cell_type": "code",
      "metadata": {
        "id": "OTxJEZmzABuE",
        "colab_type": "code",
        "colab": {}
      },
      "source": [
        "saver = tf.train.Saver()"
      ],
      "execution_count": 0,
      "outputs": []
    },
    {
      "cell_type": "code",
      "metadata": {
        "id": "wSRjkMLqAERF",
        "colab_type": "code",
        "colab": {
          "base_uri": "https://localhost:8080/",
          "height": 35
        },
        "outputId": "733ff3b1-510f-4a80-d529-e09136625308"
      },
      "source": [
        "from google.colab import drive\n",
        "drive.mount('/content/drive')  # 这一步是连接google drive"
      ],
      "execution_count": 6,
      "outputs": [
        {
          "output_type": "stream",
          "text": [
            "Drive already mounted at /content/drive; to attempt to forcibly remount, call drive.mount(\"/content/drive\", force_remount=True).\n"
          ],
          "name": "stdout"
        }
      ]
    },
    {
      "cell_type": "code",
      "metadata": {
        "id": "Micm-R8hAJWF",
        "colab_type": "code",
        "colab": {
          "base_uri": "https://localhost:8080/",
          "height": 53
        },
        "outputId": "812986b8-42ae-4bd2-9115-799521e74d38"
      },
      "source": [
        "import os\n",
        "print(os.path.exists(\"/content/drive/My Drive/model_folder/test_model2\")) # 判断这个目录存在与否\n",
        "\n",
        "\n",
        "with tf.Session() as sess:\n",
        "  tf.global_variables_initializer().run()\n",
        "  sess.run(tf.assign(v, 10))\n",
        "  sess.run(maintain_averages_op)\n",
        "  # 保存时，tensorflow会将\"v:0\"和\"v/ExponentialMovingAverage:0\"两个变量都保存下来\n",
        "  saver.save(sess, \"/content/drive/My Drive/model_folder/test_model2/model.ckpt\")\n",
        "  print(sess.run([v, ema.average(v)]))\n"
      ],
      "execution_count": 7,
      "outputs": [
        {
          "output_type": "stream",
          "text": [
            "True\n",
            "[10.0, 0.099999905]\n"
          ],
          "name": "stdout"
        }
      ]
    },
    {
      "cell_type": "code",
      "metadata": {
        "id": "TRiOLxzwApQq",
        "colab_type": "code",
        "colab": {}
      },
      "source": [
        ""
      ],
      "execution_count": 0,
      "outputs": []
    }
  ]
}