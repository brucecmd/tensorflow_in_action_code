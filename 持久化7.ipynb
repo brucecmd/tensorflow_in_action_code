{
  "nbformat": 4,
  "nbformat_minor": 0,
  "metadata": {
    "colab": {
      "name": "Untitled0.ipynb",
      "version": "0.3.2",
      "provenance": [],
      "include_colab_link": true
    },
    "kernelspec": {
      "name": "python3",
      "display_name": "Python 3"
    }
  },
  "cells": [
    {
      "cell_type": "markdown",
      "metadata": {
        "id": "view-in-github",
        "colab_type": "text"
      },
      "source": [
        "<a href=\"https://colab.research.google.com/github/brucecmd/tensorflow_in_action_code/blob/master/%E6%8C%81%E4%B9%85%E5%8C%967.ipynb\" target=\"_parent\"><img src=\"https://colab.research.google.com/assets/colab-badge.svg\" alt=\"Open In Colab\"/></a>"
      ]
    },
    {
      "cell_type": "code",
      "metadata": {
        "id": "B_p4mAi3IVEg",
        "colab_type": "code",
        "colab": {
          "base_uri": "https://localhost:8080/",
          "height": 55
        },
        "outputId": "c7bd50a9-7dda-4a00-d850-819f9319bbec"
      },
      "source": [
        "\"\"\"\n",
        "tf.train.Saver的缺点是每次会保存程序的全部信息，但有时我们并不需要全部的信息。比如在测试和离线预测（我们部署的时候）时，只需要知识如何从神经网络的输入层经过\n",
        "前向传播得到输出层即可，而不需要类似于变量初使化，模型保存等辅助结点的信息。而且，将变量取值和计算图结构分成不同文件存储有时候也不方便，\n",
        "tensorflow中提供了convert_variables_to_constant函数，可以将计算图中的变量及其取值通过常量的方式保存，这样可以将整个计算图统一放在一个文件中。\n",
        "下面是示例代码： \n",
        "\"\"\""
      ],
      "execution_count": 1,
      "outputs": [
        {
          "output_type": "execute_result",
          "data": {
            "text/plain": [
              "'\\ntf.train.Saver的缺点是每次会保存程序的全部信息，但有时我们并不需要全部的信息。比如在测试和离线预测（我们部署的时候）时，只需要知识如何从神经网络的输入层经过\\n前向传播得到输出层即可，而不需要类似于变量初使化，模型保存等辅助结点的信息。而且，将变量取值和计算图结构分成不同文件存储有时候也不方便，\\ntensorflow中提供了convert_variables_to_constant函数，可以将计算图中的变量及其取值通过常量的方式保存，这样可以将整个计算图统一放在一个文件中。\\n下面是示例代码： \\n'"
            ]
          },
          "metadata": {
            "tags": []
          },
          "execution_count": 1
        }
      ]
    },
    {
      "cell_type": "code",
      "metadata": {
        "id": "mlfGSIqbJJIS",
        "colab_type": "code",
        "colab": {}
      },
      "source": [
        "import tensorflow as tf\n",
        "from tensorflow.python.framework import graph_util"
      ],
      "execution_count": 0,
      "outputs": []
    },
    {
      "cell_type": "code",
      "metadata": {
        "id": "8LQWzc_uJQzl",
        "colab_type": "code",
        "colab": {}
      },
      "source": [
        "v1 = tf.Variable(tf.constant(1.0, shape=[1]), name=\"v1\")\n",
        "v2 = tf.Variable(tf.constant(2.0, shape=[1]), name=\"v2\")\n",
        "result = v1 + v2"
      ],
      "execution_count": 0,
      "outputs": []
    },
    {
      "cell_type": "code",
      "metadata": {
        "id": "C-oTtON0Kn1c",
        "colab_type": "code",
        "colab": {
          "base_uri": "https://localhost:8080/",
          "height": 128
        },
        "outputId": "5a06191c-764d-438e-9d6f-b601c52ea1f4"
      },
      "source": [
        "from google.colab import drive\n",
        "drive.mount('/content/drive')  # 这一步是连接google drive"
      ],
      "execution_count": 4,
      "outputs": [
        {
          "output_type": "stream",
          "text": [
            "Go to this URL in a browser: https://accounts.google.com/o/oauth2/auth?client_id=947318989803-6bn6qk8qdgf4n4g3pfee6491hc0brc4i.apps.googleusercontent.com&redirect_uri=urn%3Aietf%3Awg%3Aoauth%3A2.0%3Aoob&scope=email%20https%3A%2F%2Fwww.googleapis.com%2Fauth%2Fdocs.test%20https%3A%2F%2Fwww.googleapis.com%2Fauth%2Fdrive%20https%3A%2F%2Fwww.googleapis.com%2Fauth%2Fdrive.photos.readonly%20https%3A%2F%2Fwww.googleapis.com%2Fauth%2Fpeopleapi.readonly&response_type=code\n",
            "\n",
            "Enter your authorization code:\n",
            "··········\n",
            "Mounted at /content/drive\n"
          ],
          "name": "stdout"
        }
      ]
    },
    {
      "cell_type": "code",
      "metadata": {
        "id": "F5vKCdMDJaOE",
        "colab_type": "code",
        "colab": {
          "base_uri": "https://localhost:8080/",
          "height": 164
        },
        "outputId": "f84cacdd-5d82-4490-a22b-3e8f043fb5b2"
      },
      "source": [
        "with tf.Session() as sess:\n",
        "  tf.global_variables_initializer().run()\n",
        "  # 导出当前计算图的GraphDef部分，只需要这一部分就可以完成从输入层到输出层的计算过程 \n",
        "  graph_def = tf.get_default_graph().as_graph_def()\n",
        "  \n",
        "  # 将图中的变量及其取值转化为常量，同时将图中不必要的结点去掉。\n",
        "  # 在下面一行代码中，最后一个参数['add']给出了需要保存的节点名称。add节点是上面定义的两个变量相加的操作。\n",
        "  # 注意： 'add:0'表示某个计算节点的第一个输出，是一个张量名。\n",
        "  output_graph_def = graph_util.convert_variables_to_constants(sess, graph_def, ['add'])\n",
        "  \n",
        "  # 将导出的模型存入文件\n",
        "  with tf.gfile.GFile(\"/content/drive/My Drive/model_folder/test_model3/model.pb\", \"wb\") as f:\n",
        "    f.write(output_graph_def.SerializeToString())"
      ],
      "execution_count": 5,
      "outputs": [
        {
          "output_type": "stream",
          "text": [
            "WARNING: Logging before flag parsing goes to stderr.\n",
            "W0831 14:57:30.128597 140374989100928 deprecation.py:323] From <ipython-input-5-e94a8d8aeb7f>:9: convert_variables_to_constants (from tensorflow.python.framework.graph_util_impl) is deprecated and will be removed in a future version.\n",
            "Instructions for updating:\n",
            "Use `tf.compat.v1.graph_util.convert_variables_to_constants`\n",
            "W0831 14:57:30.131735 140374989100928 deprecation.py:323] From /usr/local/lib/python3.6/dist-packages/tensorflow/python/framework/graph_util_impl.py:270: extract_sub_graph (from tensorflow.python.framework.graph_util_impl) is deprecated and will be removed in a future version.\n",
            "Instructions for updating:\n",
            "Use `tf.compat.v1.graph_util.extract_sub_graph`\n"
          ],
          "name": "stderr"
        }
      ]
    },
    {
      "cell_type": "code",
      "metadata": {
        "id": "AbL_tWuaKzFs",
        "colab_type": "code",
        "colab": {}
      },
      "source": [
        ""
      ],
      "execution_count": 0,
      "outputs": []
    }
  ]
}