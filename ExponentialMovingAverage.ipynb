{
  "nbformat": 4,
  "nbformat_minor": 0,
  "metadata": {
    "colab": {
      "name": "Untitled0.ipynb",
      "version": "0.3.2",
      "provenance": [],
      "include_colab_link": true
    },
    "kernelspec": {
      "name": "python3",
      "display_name": "Python 3"
    }
  },
  "cells": [
    {
      "cell_type": "markdown",
      "metadata": {
        "id": "view-in-github",
        "colab_type": "text"
      },
      "source": [
        "<a href=\"https://colab.research.google.com/github/brucecmd/tensorflow_in_action_code/blob/master/ExponentialMovingAverage.ipynb\" target=\"_parent\"><img src=\"https://colab.research.google.com/assets/colab-badge.svg\" alt=\"Open In Colab\"/></a>"
      ]
    },
    {
      "cell_type": "code",
      "metadata": {
        "id": "ucU3An3upghj",
        "colab_type": "code",
        "colab": {}
      },
      "source": [
        "import tensorflow as tf"
      ],
      "execution_count": 0,
      "outputs": []
    },
    {
      "cell_type": "code",
      "metadata": {
        "id": "RVRlUPi8phrT",
        "colab_type": "code",
        "colab": {
          "base_uri": "https://localhost:8080/",
          "height": 90
        },
        "outputId": "571b59ac-6a60-405d-c00e-affed07f1c34"
      },
      "source": [
        "v = tf.Variable(0, dtype=tf.float32) # 这里别忘记加dtype=，否则后面会报错\n",
        "step = tf.Variable(0, trainable=False)\n",
        "ema = tf.train.ExponentialMovingAverage(0.99, step)\n",
        "\n",
        "maintain_averages_op = ema.apply([v])\n",
        "\n",
        "with tf.Session() as sess:\n",
        "  tf.global_variables_initializer().run()\n",
        "  \n",
        "  print(sess.run([v, ema.average(v)])) # 最开始的时候，值是一样的，都是0\n",
        "  \n",
        "  # 之后v变动一次之后，值就会变了，具体看公式：  min(0.99, 1 + step / 10 + step) = 0.1; 0.1 * 0 + 0.9 * 10 = 9 \n",
        "  sess.run(tf.assign(v, 10))\n",
        "  sess.run(maintain_averages_op)\n",
        "  print(sess.run([v, ema.average(v)]))\n",
        "  \n",
        "  # 再变动v一次，还按上面的公式算; step没变，还是0；min后的值还是0.1，所以0.1*9 + 0.9*10=9.9 (0.1*shadow + 0.9*new_value)\n",
        "  sess.run(tf.assign(v, 10))\n",
        "  sess.run(maintain_averages_op)\n",
        "  print(sess.run([v, ema.average(v)])) \n",
        "  \n",
        "  # 再变动v一次，顺便把step变了; min(0.99， 1+10000/10/10000)=0.99, 0.99*shadow+0.01*new_value=0.99*9.9 + 0.01*10=9.901\n",
        "  sess.run(tf.assign(v, 10))\n",
        "  sess.run(tf.assign(step, 10000))\n",
        "  sess.run(maintain_averages_op)\n",
        "  print(sess.run([v, ema.average(v)]))"
      ],
      "execution_count": 20,
      "outputs": [
        {
          "output_type": "stream",
          "text": [
            "[0.0, 0.0]\n",
            "[10.0, 9.0]\n",
            "[10.0, 9.9]\n",
            "[10.0, 9.901]\n"
          ],
          "name": "stdout"
        }
      ]
    },
    {
      "cell_type": "code",
      "metadata": {
        "id": "C5X9mPzsrYvp",
        "colab_type": "code",
        "colab": {}
      },
      "source": [
        ""
      ],
      "execution_count": 0,
      "outputs": []
    }
  ]
}