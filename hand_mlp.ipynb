{
  "nbformat": 4,
  "nbformat_minor": 0,
  "metadata": {
    "colab": {
      "name": "Untitled0.ipynb",
      "version": "0.3.2",
      "provenance": [],
      "include_colab_link": true
    },
    "kernelspec": {
      "name": "python3",
      "display_name": "Python 3"
    }
  },
  "cells": [
    {
      "cell_type": "markdown",
      "metadata": {
        "id": "view-in-github",
        "colab_type": "text"
      },
      "source": [
        "<a href=\"https://colab.research.google.com/github/brucecmd/tensorflow_in_action_code/blob/master/hand_mlp.ipynb\" target=\"_parent\"><img src=\"https://colab.research.google.com/assets/colab-badge.svg\" alt=\"Open In Colab\"/></a>"
      ]
    },
    {
      "cell_type": "code",
      "metadata": {
        "id": "QNaai3E1bQj9",
        "colab_type": "code",
        "colab": {}
      },
      "source": [
        "import tensorflow as tf"
      ],
      "execution_count": 0,
      "outputs": []
    },
    {
      "cell_type": "code",
      "metadata": {
        "id": "ueKNe4nbfi7u",
        "colab_type": "code",
        "colab": {}
      },
      "source": [
        "# 构造一个方法，用来生成指定shape的变量，并且加入l2正则\n",
        "def get_weight(shape, lamda):\n",
        "  weight = tf.Variable(tf.random_normal(shape=shape, dtype=tf.float32))\n",
        "  tf.add_to_collection(\"losses\", tf.contrib.layers.l2_regularizer(lamda)(weight))\n",
        "  return weight"
      ],
      "execution_count": 0,
      "outputs": []
    },
    {
      "cell_type": "code",
      "metadata": {
        "id": "EqNaouUEfxo_",
        "colab_type": "code",
        "colab": {}
      },
      "source": [
        "x = tf.placeholder(dtype=tf.float32, shape=(None, 2))\n",
        "y_ = tf.placeholder(dtype=tf.float32, shape=(None, 1))\n",
        "\n",
        "layer_dimensions = [2, 10, 10, 10, 1]\n",
        "n_layers = len(layer_dimensions)\n",
        "\n",
        "in_dimension = layer_dimension[0]\n",
        "cur_layer = x\n",
        "\n",
        "for i in range(1, n_layers):\n",
        "  out_dimension=layer_dimensions[i]\n",
        "  weight = get_weight(shape=[in_dimension, out_dimension], 0.001)\n",
        "  bias = tf.Variable(tf.constant([0.1], shape=[out_dimension]))\n",
        "  cur_layer = tf.nn.relu(tf.matmul(cur_layer, weight) + bias)\n",
        "  in_dimension = layer_dimensions[i]\n",
        "\n",
        "mse_loss = tf.reduce_mean(tf.square(y_ - cur_layer))\n",
        "tf.tf.add_to_collection(\"losses\", mse_loss)\n",
        "\n",
        "loss = tf.add_n(tf.tf.get_collection(\"losses\"))"
      ],
      "execution_count": 0,
      "outputs": []
    }
  ]
}