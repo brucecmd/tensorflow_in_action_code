{
  "nbformat": 4,
  "nbformat_minor": 0,
  "metadata": {
    "colab": {
      "name": "Untitled0.ipynb",
      "version": "0.3.2",
      "provenance": [],
      "include_colab_link": true
    },
    "kernelspec": {
      "name": "python3",
      "display_name": "Python 3"
    }
  },
  "cells": [
    {
      "cell_type": "markdown",
      "metadata": {
        "id": "view-in-github",
        "colab_type": "text"
      },
      "source": [
        "<a href=\"https://colab.research.google.com/github/brucecmd/tensorflow_in_action_code/blob/master/graph_variable.ipynb\" target=\"_parent\"><img src=\"https://colab.research.google.com/assets/colab-badge.svg\" alt=\"Open In Colab\"/></a>"
      ]
    },
    {
      "cell_type": "code",
      "metadata": {
        "id": "rfGedwk_GgQa",
        "colab_type": "code",
        "colab": {}
      },
      "source": [
        "import tensorflow as tf"
      ],
      "execution_count": 0,
      "outputs": []
    },
    {
      "cell_type": "code",
      "metadata": {
        "id": "ACSSXuYWGh4z",
        "colab_type": "code",
        "colab": {}
      },
      "source": [
        "g1 = tf.Graph()\n",
        "g2 = tf.Graph()"
      ],
      "execution_count": 0,
      "outputs": []
    },
    {
      "cell_type": "code",
      "metadata": {
        "id": "opw6v8k2Gpxh",
        "colab_type": "code",
        "colab": {
          "base_uri": "https://localhost:8080/",
          "height": 35
        },
        "outputId": "d27de9c2-d6d3-4b70-d4d0-55209ac70e6d"
      },
      "source": [
        "print(tf.VERSION)"
      ],
      "execution_count": 21,
      "outputs": [
        {
          "output_type": "stream",
          "text": [
            "1.14.0\n"
          ],
          "name": "stdout"
        }
      ]
    },
    {
      "cell_type": "code",
      "metadata": {
        "id": "rJ_mFe06Gro4",
        "colab_type": "code",
        "colab": {}
      },
      "source": [
        "with g1.as_default():\n",
        "  # 要注意下面这里，书中将shape放到了zeros_initializer里面，在这里会报错，放到外面去不会报错\n",
        "  v = tf.get_variable(\"v\", initializer=tf.zeros_initializer(), shape=[1])\n",
        "                                                    "
      ],
      "execution_count": 0,
      "outputs": []
    },
    {
      "cell_type": "code",
      "metadata": {
        "id": "CLKne0o-G2kr",
        "colab_type": "code",
        "colab": {}
      },
      "source": [
        "with g2.as_default():\n",
        "  v = tf.get_variable(\"v\", initializer=tf.ones_initializer(), shape=[1])"
      ],
      "execution_count": 0,
      "outputs": []
    },
    {
      "cell_type": "code",
      "metadata": {
        "id": "0zB-LyZ7HlHY",
        "colab_type": "code",
        "colab": {
          "base_uri": "https://localhost:8080/",
          "height": 35
        },
        "outputId": "6837a824-2e5d-4033-963c-fa91575e785d"
      },
      "source": [
        "with tf.Session(graph=g1) as sess:\n",
        "  tf.global_variables_initializer().run()\n",
        "  with tf.variable_scope(\"\", reuse=True):\n",
        "    print(sess.run(tf.get_variable(\"v\")))"
      ],
      "execution_count": 24,
      "outputs": [
        {
          "output_type": "stream",
          "text": [
            "[0.]\n"
          ],
          "name": "stdout"
        }
      ]
    },
    {
      "cell_type": "code",
      "metadata": {
        "id": "jsuZcEQUH6Pb",
        "colab_type": "code",
        "colab": {
          "base_uri": "https://localhost:8080/",
          "height": 35
        },
        "outputId": "49bee6d8-0556-4c58-99a5-f0ad4e9b49b1"
      },
      "source": [
        "with tf.Session(graph=g2) as sess:\n",
        "  tf.global_variables_initializer().run()\n",
        "  with tf.variable_scope(\"\", reuse=True):\n",
        "    print(sess.run(tf.get_variable(\"v\")))"
      ],
      "execution_count": 25,
      "outputs": [
        {
          "output_type": "stream",
          "text": [
            "[1.]\n"
          ],
          "name": "stdout"
        }
      ]
    },
    {
      "cell_type": "code",
      "metadata": {
        "id": "okIrplgLIUfH",
        "colab_type": "code",
        "colab": {}
      },
      "source": [
        ""
      ],
      "execution_count": 0,
      "outputs": []
    }
  ]
}